{
 "cells": [
  {
   "cell_type": "markdown",
   "id": "45e43aa3",
   "metadata": {
    "problem_id": "pipeline"
   },
   "source": [
    "## Exercise 1\n",
    "\n",
    "In this exercise, you will use PCA to reduce the MINST data set and visualize the approximation."
   ]
  },
  {
   "cell_type": "markdown",
   "id": "efafbc90",
   "metadata": {
    "pass_through": true
   },
   "source": [
    "### Step 1: Load the data\n",
    "\n",
    "You don't actually have to do anything here!  Just run the code..."
   ]
  },
  {
   "cell_type": "code",
   "execution_count": null,
   "id": "f50f61d0",
   "metadata": {},
   "outputs": [],
   "source": [
    "# @SHOW\n",
    "from sklearn.datasets import fetch_openml\n",
    "from sklearn.decomposition import PCA\n",
    "from sklearn.neighbors import KNeighborsClassifier\n",
    "from sklearn.model_selection import train_test_split\n",
    "from sklearn.metrics import accuracy_score\n",
    "import matplotlib.pyplot as plt\n",
    "import numpy as np\n",
    "\n",
    "# Step 1: Load MNIST data\n",
    "mnist = fetch_openml(\"mnist_784\", version=1)\n",
    "X, y = mnist[\"data\"].values, mnist[\"target\"].astype(int).values\n",
    "\n",
    "# Sample the dataset to speed up computation (Optional)\n",
    "X, y = X[:7000], y[:7000]\n",
    "\n",
    "# Split the dataset\n",
    "X_mnist_train, X_mnist_test, y_mnist_train, y_mnist_test = train_test_split(X, y, test_size=0.2, random_state=42)\n"
   ]
  },
  {
   "cell_type": "markdown",
   "id": "e2d079b0",
   "metadata": {
    "part_id": "pipeline-part1"
   },
   "source": [
    "#### Step 2: Use PCA to reduce the data set\n",
    "\n",
    "\n",
    "Visualize your result with a 2d scatter plot, colored by class (the digit identitiy)"
   ]
  },
  {
   "cell_type": "code",
   "execution_count": null,
   "id": "ee3fc4e9",
   "metadata": {
    "part_id": "pipeline-part1",
    "span": "pipeline-part1.code",
    "student": true
   },
   "outputs": [],
   "source": [
    "# Your code here"
   ]
  },
  {
   "cell_type": "markdown",
   "id": "676e75b8",
   "metadata": {
    "part_id": "pipeline-part2"
   },
   "source": [
    "#### Step 3: Scree plot\n",
    "\n",
    "Calculate and visualize a scree plot for the first 40 component.  The y-axis should be 'percent of variance explained'."
   ]
  },
  {
   "cell_type": "code",
   "execution_count": null,
   "id": "3b1b5405",
   "metadata": {
    "part_id": "pipeline-part2",
    "span": "pipeline-part2.code",
    "student": true
   },
   "outputs": [],
   "source": [
    "# Your code here\n"
   ]
  },
  {
   "cell_type": "markdown",
   "id": "db04e90b",
   "metadata": {
    "part_id": "pipeline-part3"
   },
   "source": [
    "#### Step 4: Select the number of components\n",
    "\n",
    "\n",
    "Calculate the number of components required to explain 95% of the variance"
   ]
  },
  {
   "cell_type": "code",
   "execution_count": null,
   "id": "d52b9fb9",
   "metadata": {
    "part_id": "pipeline-part3",
    "span": "pipeline-part3.code",
    "student": true
   },
   "outputs": [],
   "source": [
    "# Your code here\n"
   ]
  },
  {
   "cell_type": "markdown",
   "id": "36a7e4dd",
   "metadata": {
    "part_id": "pipeline-part4"
   },
   "source": [
    "### Step 5: Visualize a digit in the reduced dimensionality space\n",
    "\n",
    "\n",
    "I've provided a function for visualizing a digit. Figure out how to visualize the same digit using the number of dimensions identified in Step 4."
   ]
  },
  {
   "cell_type": "code",
   "execution_count": null,
   "id": "b54e238d",
   "metadata": {},
   "outputs": [],
   "source": [
    "# @SHOW\n",
    "def plot_mnist_digit(digit):\n",
    "    \"\"\"Plot a single MNIST digit.\n",
    "\n",
    "    Parameters:\n",
    "    digit (numpy array): A flattened 1D numpy array of length 784.\n",
    "\n",
    "    \"\"\"\n",
    "    # Reshape the flattened digit to 28x28 image\n",
    "    digit_image = digit.reshape(28, 28)\n",
    "    \n",
    "    plt.imshow(digit_image, cmap='binary')\n",
    "    plt.axis(\"off\")\n",
    "    plt.show()\n",
    "\n",
    "plot_mnist_digit(X_mnist_train[0])"
   ]
  },
  {
   "cell_type": "code",
   "execution_count": null,
   "id": "f9a572c9",
   "metadata": {
    "part_id": "pipeline-part4",
    "span": "pipeline-part4.code",
    "student": true
   },
   "outputs": [],
   "source": [
    "# Your code here\n"
   ]
  },
  {
   "cell_type": "markdown",
   "id": "c3764829",
   "metadata": {
    "part_id": "pipeline-part5"
   },
   "source": [
    "### Step 6: Use dimensionality reduction to preprocess data\n",
    "\n",
    "\n",
    "See how a KNN Classifier works with and without dimensionality reduction. Preserve 80% of the variance."
   ]
  },
  {
   "cell_type": "code",
   "execution_count": null,
   "id": "240d7362",
   "metadata": {
    "part_id": "pipeline-part5",
    "span": "pipeline-part5.code",
    "student": true
   },
   "outputs": [],
   "source": [
    "# Your code here\n"
   ]
  },
  {
   "cell_type": "markdown",
   "id": "2fe4e350",
   "metadata": {
    "problem_id": "ex1"
   },
   "source": [
    "## Exercise 2\n",
    "<!-- @q -->\n",
    "1. Try using t-SNE to visualize the MNIST data above."
   ]
  },
  {
   "cell_type": "code",
   "execution_count": null,
   "id": "83eabd21",
   "metadata": {
    "part_id": "ex1-part1",
    "span": "ex1-part1.code",
    "student": true
   },
   "outputs": [],
   "source": [
    "# Your code here\n"
   ]
  },
  {
   "cell_type": "markdown",
   "id": "fd650507",
   "metadata": {
    "part_id": "ex1-part2"
   },
   "source": [
    "2. Try using a KNN classifier to predict the data with TSNE.  How does it perform?"
   ]
  },
  {
   "cell_type": "code",
   "execution_count": null,
   "id": "f7685f40",
   "metadata": {
    "additional_cells_expected": true,
    "part_id": "ex1-part2",
    "span": "ex1-part2.code",
    "student": true
   },
   "outputs": [],
   "source": [
    "# Your code here\n"
   ]
  },
  {
   "cell_type": "markdown",
   "id": "62d12000",
   "metadata": {},
   "source": [
    "## Exercise 3"
   ]
  },
  {
   "cell_type": "markdown",
   "id": "93893f7c",
   "metadata": {},
   "source": [
    "Try using UMAP to process the MNIST data.  Visualize the data first."
   ]
  },
  {
   "cell_type": "code",
   "execution_count": null,
   "id": "88e3ba4c",
   "metadata": {},
   "outputs": [],
   "source": [
    "# @SHOW\n",
    "# You might need to install UMAP.  If so, uncomment the following lines and run them\n",
    "\n",
    "# %pip install numpy==2.0\n",
    "# %pip install umap-learn"
   ]
  },
  {
   "cell_type": "code",
   "execution_count": null,
   "id": "f21878c7",
   "metadata": {
    "additional_cells_expected": true,
    "part_id": "ex1-part2",
    "span": "ex1-part2.code",
    "student": true
   },
   "outputs": [],
   "source": [
    "# Your code here\n"
   ]
  },
  {
   "cell_type": "markdown",
   "id": "7d98066f",
   "metadata": {
    "part_id": "ex1-part3"
   },
   "source": [
    "Now, calculate accuracy with KNN."
   ]
  },
  {
   "cell_type": "code",
   "execution_count": null,
   "id": "1071ad51",
   "metadata": {
    "part_id": "ex1-part3",
    "span": "ex1-part3.code",
    "student": true
   },
   "outputs": [],
   "source": [
    "# Your code here\n"
   ]
  },
  {
   "cell_type": "markdown",
   "id": "12c6d205",
   "metadata": {
    "problem_id": "ex2"
   },
   "source": [
    "## Exercise 4\n",
    "\n",
    "In the following, I've set up some sample data. Examine the relative performance of PCA and UMAP; for each, try gradually increasing the number of dimensions and examine the impact on KNN. You should also try different parameter settings for UMAP. Make sure to visualize your data after dimensionality reduction to understand what's going on!"
   ]
  },
  {
   "cell_type": "code",
   "execution_count": null,
   "id": "97ad6572",
   "metadata": {},
   "outputs": [],
   "source": [
    "# @SHOW\n",
    "# Generate synthetic data\n",
    "np.random.seed(0)\n",
    "n_points = 500\n",
    "\n",
    "# Class 0\n",
    "x0 = np.random.normal(loc=0, scale=10, size=n_points)\n",
    "y0 = np.random.normal(loc=0, scale=10, size=n_points)\n",
    "z0 = np.random.normal(loc=0, scale=1, size=n_points)\n",
    "\n",
    "# Class 1\n",
    "x1 = np.random.normal(loc=0, scale=10, size=n_points)\n",
    "y1 = np.random.normal(loc=0, scale=10, size=n_points)\n",
    "z1 = np.random.normal(loc=2, scale=1, size=n_points)\n",
    "\n",
    "X = np.vstack((np.hstack((x0, x1)), np.hstack((y0, y1)), np.hstack((z0, z1)))).T\n",
    "y = np.hstack((np.zeros(n_points), np.ones(n_points)))\n",
    "\n",
    "\n",
    "\n",
    "# Train KNN on original data\n",
    "knn = KNeighborsClassifier()\n",
    "knn.fit(X, y)\n",
    "y_pred = knn.predict(X)\n",
    "print(f\"Original Data Accuracy: {accuracy_score(y, y_pred)}\")\n",
    "\n",
    "# Create a new figure\n",
    "fig = plt.figure(figsize=(15,15))\n",
    "\n",
    "# Add 3D subplot\n",
    "# The format is (rows, columns, plot_number)\n",
    "ax = fig.add_subplot(111, projection='3d')\n",
    "ax.view_init(elev=0, azim=30)\n",
    "\n",
    "ax.scatter(X[:, 0], X[:, 1], X[:, 2], c=y, cmap='viridis')\n",
    "ax.set_title('Original Data')\n",
    "\n",
    "plt.show()\n"
   ]
  },
  {
   "cell_type": "code",
   "execution_count": null,
   "id": "7397bfeb",
   "metadata": {},
   "outputs": [],
   "source": [
    "# @SHOW\n",
    "# Set up train and test, and examine predictions without dimensionality reduction\n",
    "\n",
    "X_train, X_test,y_train, y_test = train_test_split(X,y,test_size=.2,random_state=42)\n",
    "\n",
    "knn = KNeighborsClassifier()\n",
    "knn.fit(X_train, y_train)\n",
    "y_pred = knn.predict(X_test)\n",
    "print(f\"Original Data Accuracy: {accuracy_score(y_test, y_pred)}\")"
   ]
  },
  {
   "cell_type": "markdown",
   "id": "588bf11c",
   "metadata": {
    "part_id": "ex2-part1"
   },
   "source": [
    "1. Try with PCA"
   ]
  },
  {
   "cell_type": "code",
   "execution_count": null,
   "id": "3e2eff27",
   "metadata": {
    "part_id": "ex2-part1",
    "span": "ex2-part1.code",
    "student": true
   },
   "outputs": [],
   "source": [
    "# Your code here\n"
   ]
  },
  {
   "cell_type": "code",
   "execution_count": null,
   "id": "aa4929ea",
   "metadata": {
    "part_id": "ex2-part1",
    "span": "ex2-part1.code",
    "student": true
   },
   "outputs": [],
   "source": [
    "# Your code here\n"
   ]
  },
  {
   "cell_type": "markdown",
   "id": "122bd7c4",
   "metadata": {
    "part_id": "ex2-part2"
   },
   "source": [
    "2. Try with UMAP."
   ]
  },
  {
   "cell_type": "code",
   "execution_count": null,
   "id": "61b263cc",
   "metadata": {
    "additional_cells_expected": true,
    "part_id": "ex2-part2",
    "span": "ex2-part2.code",
    "student": true
   },
   "outputs": [],
   "source": [
    "# Your code here\n"
   ]
  },
  {
   "cell_type": "code",
   "execution_count": null,
   "id": "5b5494d7",
   "metadata": {
    "additional_cells_expected": true,
    "part_id": "ex2-part2",
    "span": "ex2-part2.code",
    "student": true
   },
   "outputs": [],
   "source": [
    "# Your code here\n"
   ]
  },
  {
   "cell_type": "markdown",
   "id": "3d0112a5",
   "metadata": {
    "part_id": "ex2-part3"
   },
   "source": [
    "Explain your results in the cell below.  Which works better?  Why?"
   ]
  },
  {
   "cell_type": "markdown",
   "id": "8453febe",
   "metadata": {
    "part_id": "ex2-part3",
    "span": "ex2-part3.answer",
    "student": true
   },
   "source": [
    "*Enter your answer in this cell*"
   ]
  }
 ],
 "metadata": {
  "kernelspec": {
   "display_name": "Python 3",
   "language": "python",
   "name": "python3"
  },
  "language_info": {
   "codemirror_mode": {
    "name": "ipython",
    "version": 3
   },
   "file_extension": ".py",
   "mimetype": "text/x-python",
   "name": "python",
   "nbconvert_exporter": "python",
   "pygments_lexer": "ipython3",
   "version": "3.12.1"
  }
 },
 "nbformat": 4,
 "nbformat_minor": 5
}
